{
 "cells": [
  {
   "cell_type": "code",
   "execution_count": 1,
   "metadata": {},
   "outputs": [],
   "source": [
    "# https://www.kaggle.com/a03102030/plant-pathology-2020-resnet50\n",
    "#384\n",
    "# 資料處理套件\n",
    "import os\n",
    "import cv2\n",
    "import csv\n",
    "import random\n",
    "import time\n",
    "import numpy as np\n",
    "import pandas as pd\n",
    "\n",
    "import matplotlib.image as mpimg # mpimg 用於讀取圖片\n",
    "import matplotlib.pyplot as plt # plt 用於顯示圖片\n",
    "import seaborn as sns"
   ]
  },
  {
   "cell_type": "code",
   "execution_count": 2,
   "metadata": {},
   "outputs": [],
   "source": [
    "# 設定顯示中文字體\n",
    "from matplotlib.font_manager import FontProperties\n",
    "plt.rcParams['font.sans-serif'] = ['Microsoft JhengHei'] "
   ]
  },
  {
   "cell_type": "code",
   "execution_count": 3,
   "metadata": {},
   "outputs": [],
   "source": [
    "#指定GPU\n",
    "import os\n",
    "os.environ[\"CUDA_VISIBLE_DEVICES\"] = \"3\""
   ]
  },
  {
   "cell_type": "code",
   "execution_count": 4,
   "metadata": {},
   "outputs": [
    {
     "name": "stderr",
     "output_type": "stream",
     "text": [
      "Using TensorFlow backend.\n"
     ]
    }
   ],
   "source": [
    "# Keras深度學習模組套件\n",
    "from keras.utils.np_utils import to_categorical\n",
    "from keras.preprocessing.image import ImageDataGenerator, array_to_img, img_to_array, load_img\n",
    "from keras.optimizers import RMSprop\n",
    "from keras.models import Sequential\n",
    "from keras import utils as np_utils\n",
    "from keras import backend as K\n",
    "from keras import optimizers"
   ]
  },
  {
   "cell_type": "code",
   "execution_count": 5,
   "metadata": {},
   "outputs": [],
   "source": [
    "# tensorflow深度學習模組套件\n",
    "from tensorflow.keras import models\n",
    "from tensorflow.keras import layers\n",
    "from tensorflow import keras\n",
    "import tensorflow as tf\n",
    "\n",
    "#遷移式學習import\n",
    "from tensorflow.keras import Sequential\n",
    "from tensorflow.keras.models import Model\n",
    "from tensorflow.keras.layers import Dense, Activation, Flatten\n",
    "from tensorflow.keras.layers import Input\n",
    "from tensorflow.keras.layers import Dropout, Flatten, Activation\n",
    "from tensorflow.keras.layers import Conv2D, MaxPooling2D\n",
    "from tensorflow.keras.optimizers import Adam,SGD,Adagrad,Adadelta,RMSprop\n",
    "from tensorflow.keras.applications.vgg19 import VGG19\n",
    "#B7\n",
    "import efficientnet.tfkeras as efn\n",
    "import tensorflow.keras.layers as L\n",
    "\n",
    "\n",
    "from tensorflow.keras.callbacks import ReduceLROnPlateau\n",
    "from tensorflow.keras.applications.resnet50 import ResNet50\n",
    "from tensorflow.keras.layers import GlobalAveragePooling2D\n",
    "from tensorflow.keras.callbacks import ModelCheckpoint"
   ]
  },
  {
   "cell_type": "code",
   "execution_count": 6,
   "metadata": {},
   "outputs": [
    {
     "name": "stdout",
     "output_type": "stream",
     "text": [
      "1.0.5\n",
      "2.1.0\n"
     ]
    }
   ],
   "source": [
    "print(pd.__version__)\n",
    "print(tf.__version__)"
   ]
  },
  {
   "cell_type": "code",
   "execution_count": 7,
   "metadata": {},
   "outputs": [
    {
     "data": {
      "text/html": [
       "<div>\n",
       "<style scoped>\n",
       "    .dataframe tbody tr th:only-of-type {\n",
       "        vertical-align: middle;\n",
       "    }\n",
       "\n",
       "    .dataframe tbody tr th {\n",
       "        vertical-align: top;\n",
       "    }\n",
       "\n",
       "    .dataframe thead th {\n",
       "        text-align: right;\n",
       "    }\n",
       "</style>\n",
       "<table border=\"1\" class=\"dataframe\">\n",
       "  <thead>\n",
       "    <tr style=\"text-align: right;\">\n",
       "      <th></th>\n",
       "      <th>test_00000.png</th>\n",
       "    </tr>\n",
       "  </thead>\n",
       "  <tbody>\n",
       "    <tr>\n",
       "      <th>0</th>\n",
       "      <td>test_00001.png</td>\n",
       "    </tr>\n",
       "    <tr>\n",
       "      <th>1</th>\n",
       "      <td>test_00002.png</td>\n",
       "    </tr>\n",
       "    <tr>\n",
       "      <th>2</th>\n",
       "      <td>test_00003.png</td>\n",
       "    </tr>\n",
       "    <tr>\n",
       "      <th>3</th>\n",
       "      <td>test_00004.png</td>\n",
       "    </tr>\n",
       "    <tr>\n",
       "      <th>4</th>\n",
       "      <td>test_00005.png</td>\n",
       "    </tr>\n",
       "  </tbody>\n",
       "</table>\n",
       "</div>"
      ],
      "text/plain": [
       "   test_00000.png\n",
       "0  test_00001.png\n",
       "1  test_00002.png\n",
       "2  test_00003.png\n",
       "3  test_00004.png\n",
       "4  test_00005.png"
      ]
     },
     "execution_count": 7,
     "metadata": {},
     "output_type": "execute_result"
    }
   ],
   "source": [
    "# 讀取資料集標籤檔\n",
    "Sample_label = pd.read_csv(\"C:/Users/danie/AOI_test/test01.csv\",encoding=\"utf8\")\n",
    "# 顯示資料集標籤檔\n",
    "Sample_label.head()"
   ]
  },
  {
   "cell_type": "code",
   "execution_count": 8,
   "metadata": {},
   "outputs": [],
   "source": [
    "# 串接圖片檔的路徑\n",
    "Sample_pics_path = os.path.join(\"C:/Users/danie/AOI_test/test_images\")\n",
    "# 讀取路徑中的圖片\n",
    "train_mango_fnames = os.listdir(Sample_pics_path)"
   ]
  },
  {
   "cell_type": "code",
   "execution_count": 9,
   "metadata": {},
   "outputs": [
    {
     "name": "stdout",
     "output_type": "stream",
     "text": [
      "test_00000.png\n",
      "test_00001.png\n",
      "test_00002.png\n"
     ]
    }
   ],
   "source": [
    "#測試圖片\n",
    "print(train_mango_fnames[0])\n",
    "print(train_mango_fnames[1])\n",
    "print(train_mango_fnames[2])"
   ]
  },
  {
   "cell_type": "code",
   "execution_count": 10,
   "metadata": {},
   "outputs": [
    {
     "name": "stdout",
     "output_type": "stream",
     "text": [
      "<class 'numpy.ndarray'>\n",
      "(512, 512)\n"
     ]
    }
   ],
   "source": [
    "# 讀取圖檔\n",
    "img = mpimg.imread(\"C:/Users/danie/AOI_test/test_images/test_00001.png\")\n",
    "# 查看資料型態\n",
    "print(type(img))\n",
    "# 顯示圖片的比例\n",
    "print(img.shape)"
   ]
  },
  {
   "cell_type": "code",
   "execution_count": 11,
   "metadata": {},
   "outputs": [
    {
     "data": {
      "text/plain": [
       "(800, 800)"
      ]
     },
     "execution_count": 11,
     "metadata": {},
     "output_type": "execute_result"
    }
   ],
   "source": [
    "# 把圖片的比例壓縮至800x800 \n",
    "res = cv2.resize(img,(800,800),interpolation=cv2.INTER_LINEAR)\n",
    "# 顯示壓縮後圖片的比例\n",
    "res.shape"
   ]
  },
  {
   "cell_type": "code",
   "execution_count": 12,
   "metadata": {},
   "outputs": [
    {
     "data": {
      "image/png": "[encoded data removed]",
      "text/plain": [
       "<Figure size 432x288 with 1 Axes>"
      ]
     },
     "metadata": {
      "needs_background": "light"
     },
     "output_type": "display_data"
    }
   ],
   "source": [
    "# 顯示原圖的芒果照片\n",
    "plt.imshow(img)\n",
    "plt.axis('on')\n",
    "plt.show()"
   ]
  },
  {
   "cell_type": "code",
   "execution_count": 13,
   "metadata": {
    "scrolled": true
   },
   "outputs": [
    {
     "data": {
      "image/png": "[encoded data removed]",
      "text/plain": [
       "<Figure size 432x288 with 1 Axes>"
      ]
     },
     "metadata": {
      "needs_background": "light"
     },
     "output_type": "display_data"
    }
   ],
   "source": [
    "# 顯示壓縮過原圖的芒果照片\n",
    "plt.imshow(res)\n",
    "plt.axis('on')\n",
    "plt.show()"
   ]
  },
  {
   "cell_type": "code",
   "execution_count": 14,
   "metadata": {},
   "outputs": [],
   "source": [
    "# 製作標籤&資料集\n",
    "csvfile = open('C:/Users/danie/AOI_test/test01.csv')\n",
    "reader = csv.reader(csvfile)"
   ]
  },
  {
   "cell_type": "code",
   "execution_count": 15,
   "metadata": {},
   "outputs": [],
   "source": [
    "# 讀取csv標籤\n",
    "labels = []\n",
    "for line in reader:\n",
    "    tmp = [line[0]]\n",
    "    # print tmp\n",
    "    labels.append(tmp)\n",
    "\n",
    "csvfile.close() "
   ]
  },
  {
   "cell_type": "code",
   "execution_count": 16,
   "metadata": {},
   "outputs": [
    {
     "name": "stdout",
     "output_type": "stream",
     "text": [
      "AOI圖片數量:  10142\n"
     ]
    }
   ],
   "source": [
    "picnum = len(labels)\n",
    "print(\"AOI圖片數量: \",picnum)"
   ]
  },
  {
   "cell_type": "code",
   "execution_count": 17,
   "metadata": {},
   "outputs": [
    {
     "data": {
      "text/plain": [
       "['test_00008.png']"
      ]
     },
     "execution_count": 17,
     "metadata": {},
     "output_type": "execute_result"
    }
   ],
   "source": [
    "labels[8]"
   ]
  },
  {
   "cell_type": "code",
   "execution_count": 18,
   "metadata": {},
   "outputs": [],
   "source": [
    "X = []"
   ]
  },
  {
   "cell_type": "code",
   "execution_count": 19,
   "metadata": {},
   "outputs": [],
   "source": [
    "# # 轉換圖片的標籤\n",
    "# for i in range(len(labels)):\n",
    "#     labels[i][1] = labels[i][1].replace(\"A\",\"0\")\n",
    "#     labels[i][1] = labels[i][1].replace(\"B\",\"1\")\n",
    "#     labels[i][1] = labels[i][1].replace(\"C\",\"2\")\n",
    "# #測試是否有傳換成功\n",
    "# print(labels[8])"
   ]
  },
  {
   "cell_type": "code",
   "execution_count": 20,
   "metadata": {},
   "outputs": [
    {
     "name": "stdout",
     "output_type": "stream",
     "text": [
      "0\n",
      "['test_00000.png']\n"
     ]
    }
   ],
   "source": [
    "# # 隨機讀取圖片\n",
    "# a = 0\n",
    "# items= []\n",
    "# import random\n",
    "# for a in range(0,45000):\n",
    "#     items.append(a)\n",
    "    \n",
    "a = 0\n",
    "items= []\n",
    "for a in range(0,10142):\n",
    "    items.append(a)\n",
    "print(items[0])\n",
    "print(labels[0])"
   ]
  },
  {
   "cell_type": "code",
   "execution_count": 21,
   "metadata": {},
   "outputs": [
    {
     "name": "stdout",
     "output_type": "stream",
     "text": [
      "done\n"
     ]
    }
   ],
   "source": [
    "# # 製作訓練用資料集及標籤\n",
    "# for i in random.sample(items,45000):\n",
    "#     img = cv2.imread(\"C:/Users/danie/mango/C1-P2_Train Dev/Crop_Train/\" + labels[i][0] )\n",
    "#     res = cv2.resize(img,(224,224),interpolation=cv2.INTER_LINEAR)\n",
    "#     res = img_to_array(res)\n",
    "#     X.append(res)    \n",
    "#     y.append(labels[i][1])\n",
    "# print(\"done\")\n",
    "\n",
    "# 製作訓練用資料集及標籤\n",
    "for i in items:\n",
    "    img = cv2.imread(\"C:/Users/danie/AOI_test/test_images/\" + labels[i][0])\n",
    "    res = cv2.resize(img,(512,512),interpolation=cv2.INTER_LINEAR)\n",
    "    res = img_to_array(res)\n",
    "    X.append(res)\n",
    "print(\"done\")"
   ]
  },
  {
   "cell_type": "code",
   "execution_count": 22,
   "metadata": {},
   "outputs": [
    {
     "data": {
      "text/plain": [
       "array([[191, 191, 191],\n",
       "       [192, 192, 192],\n",
       "       [192, 192, 192],\n",
       "       ...,\n",
       "       [182, 182, 182],\n",
       "       [180, 180, 180],\n",
       "       [180, 180, 180]], dtype=uint8)"
      ]
     },
     "execution_count": 22,
     "metadata": {},
     "output_type": "execute_result"
    }
   ],
   "source": [
    "img[0]"
   ]
  },
  {
   "cell_type": "code",
   "execution_count": 23,
   "metadata": {},
   "outputs": [
    {
     "name": "stdout",
     "output_type": "stream",
     "text": [
      "10142\n"
     ]
    }
   ],
   "source": [
    "print(len(X))"
   ]
  },
  {
   "cell_type": "code",
   "execution_count": 24,
   "metadata": {},
   "outputs": [
    {
     "name": "stdout",
     "output_type": "stream",
     "text": [
      "[[[[185. 185. 185.]\n",
      "   [182. 182. 182.]\n",
      "   [175. 175. 175.]\n",
      "   ...\n",
      "   [175. 175. 175.]\n",
      "   [188. 188. 188.]\n",
      "   [199. 199. 199.]]\n",
      "\n",
      "  [[184. 184. 184.]\n",
      "   [181. 181. 181.]\n",
      "   [174. 174. 174.]\n",
      "   ...\n",
      "   [182. 182. 182.]\n",
      "   [189. 189. 189.]\n",
      "   [195. 195. 195.]]\n",
      "\n",
      "  [[183. 183. 183.]\n",
      "   [179. 179. 179.]\n",
      "   [173. 173. 173.]\n",
      "   ...\n",
      "   [189. 189. 189.]\n",
      "   [190. 190. 190.]\n",
      "   [191. 191. 191.]]\n",
      "\n",
      "  ...\n",
      "\n",
      "  [[239. 239. 239.]\n",
      "   [248. 248. 248.]\n",
      "   [255. 255. 255.]\n",
      "   ...\n",
      "   [132. 132. 132.]\n",
      "   [139. 139. 139.]\n",
      "   [146. 146. 146.]]\n",
      "\n",
      "  [[231. 231. 231.]\n",
      "   [242. 242. 242.]\n",
      "   [254. 254. 254.]\n",
      "   ...\n",
      "   [143. 143. 143.]\n",
      "   [143. 143. 143.]\n",
      "   [144. 144. 144.]]\n",
      "\n",
      "  [[221. 221. 221.]\n",
      "   [233. 233. 233.]\n",
      "   [248. 248. 248.]\n",
      "   ...\n",
      "   [151. 151. 151.]\n",
      "   [145. 145. 145.]\n",
      "   [143. 143. 143.]]]\n",
      "\n",
      "\n",
      " [[[185. 185. 185.]\n",
      "   [164. 164. 164.]\n",
      "   [186. 186. 186.]\n",
      "   ...\n",
      "   [191. 191. 191.]\n",
      "   [161. 161. 161.]\n",
      "   [151. 151. 151.]]\n",
      "\n",
      "  [[170. 170. 170.]\n",
      "   [195. 195. 195.]\n",
      "   [171. 171. 171.]\n",
      "   ...\n",
      "   [163. 163. 163.]\n",
      "   [169. 169. 169.]\n",
      "   [164. 164. 164.]]\n",
      "\n",
      "  [[180. 180. 180.]\n",
      "   [182. 182. 182.]\n",
      "   [187. 187. 187.]\n",
      "   ...\n",
      "   [171. 171. 171.]\n",
      "   [163. 163. 163.]\n",
      "   [148. 148. 148.]]\n",
      "\n",
      "  ...\n",
      "\n",
      "  [[144. 144. 144.]\n",
      "   [133. 133. 133.]\n",
      "   [154. 154. 154.]\n",
      "   ...\n",
      "   [160. 160. 160.]\n",
      "   [233. 233. 233.]\n",
      "   [185. 185. 185.]]\n",
      "\n",
      "  [[170. 170. 170.]\n",
      "   [190. 190. 190.]\n",
      "   [157. 157. 157.]\n",
      "   ...\n",
      "   [151. 151. 151.]\n",
      "   [172. 172. 172.]\n",
      "   [191. 191. 191.]]\n",
      "\n",
      "  [[148. 148. 148.]\n",
      "   [142. 142. 142.]\n",
      "   [152. 152. 152.]\n",
      "   ...\n",
      "   [143. 143. 143.]\n",
      "   [172. 172. 172.]\n",
      "   [176. 176. 176.]]]\n",
      "\n",
      "\n",
      " [[[167. 167. 167.]\n",
      "   [167. 167. 167.]\n",
      "   [167. 167. 167.]\n",
      "   ...\n",
      "   [199. 199. 199.]\n",
      "   [199. 199. 199.]\n",
      "   [199. 199. 199.]]\n",
      "\n",
      "  [[167. 167. 167.]\n",
      "   [167. 167. 167.]\n",
      "   [167. 167. 167.]\n",
      "   ...\n",
      "   [199. 199. 199.]\n",
      "   [199. 199. 199.]\n",
      "   [199. 199. 199.]]\n",
      "\n",
      "  [[167. 167. 167.]\n",
      "   [167. 167. 167.]\n",
      "   [167. 167. 167.]\n",
      "   ...\n",
      "   [199. 199. 199.]\n",
      "   [199. 199. 199.]\n",
      "   [199. 199. 199.]]\n",
      "\n",
      "  ...\n",
      "\n",
      "  [[172. 172. 172.]\n",
      "   [172. 172. 172.]\n",
      "   [172. 172. 172.]\n",
      "   ...\n",
      "   [187. 187. 187.]\n",
      "   [187. 187. 187.]\n",
      "   [187. 187. 187.]]\n",
      "\n",
      "  [[172. 172. 172.]\n",
      "   [172. 172. 172.]\n",
      "   [172. 172. 172.]\n",
      "   ...\n",
      "   [187. 187. 187.]\n",
      "   [187. 187. 187.]\n",
      "   [187. 187. 187.]]\n",
      "\n",
      "  [[172. 172. 172.]\n",
      "   [172. 172. 172.]\n",
      "   [172. 172. 172.]\n",
      "   ...\n",
      "   [187. 187. 187.]\n",
      "   [187. 187. 187.]\n",
      "   [188. 188. 188.]]]\n",
      "\n",
      "\n",
      " ...\n",
      "\n",
      "\n",
      " [[[230. 230. 230.]\n",
      "   [237. 237. 237.]\n",
      "   [228. 228. 228.]\n",
      "   ...\n",
      "   [233. 233. 233.]\n",
      "   [255. 255. 255.]\n",
      "   [255. 255. 255.]]\n",
      "\n",
      "  [[198. 198. 198.]\n",
      "   [186. 186. 186.]\n",
      "   [172. 172. 172.]\n",
      "   ...\n",
      "   [214. 214. 214.]\n",
      "   [238. 238. 238.]\n",
      "   [243. 243. 243.]]\n",
      "\n",
      "  [[173. 173. 173.]\n",
      "   [166. 166. 166.]\n",
      "   [154. 154. 154.]\n",
      "   ...\n",
      "   [159. 159. 159.]\n",
      "   [187. 187. 187.]\n",
      "   [222. 222. 222.]]\n",
      "\n",
      "  ...\n",
      "\n",
      "  [[186. 186. 186.]\n",
      "   [187. 187. 187.]\n",
      "   [201. 201. 201.]\n",
      "   ...\n",
      "   [202. 202. 202.]\n",
      "   [198. 198. 198.]\n",
      "   [199. 199. 199.]]\n",
      "\n",
      "  [[206. 206. 206.]\n",
      "   [205. 205. 205.]\n",
      "   [203. 203. 203.]\n",
      "   ...\n",
      "   [195. 195. 195.]\n",
      "   [176. 176. 176.]\n",
      "   [174. 174. 174.]]\n",
      "\n",
      "  [[211. 211. 211.]\n",
      "   [209. 209. 209.]\n",
      "   [202. 202. 202.]\n",
      "   ...\n",
      "   [178. 178. 178.]\n",
      "   [152. 152. 152.]\n",
      "   [146. 146. 146.]]]\n",
      "\n",
      "\n",
      " [[[246. 246. 246.]\n",
      "   [235. 235. 235.]\n",
      "   [243. 243. 243.]\n",
      "   ...\n",
      "   [145. 145. 145.]\n",
      "   [187. 187. 187.]\n",
      "   [167. 167. 167.]]\n",
      "\n",
      "  [[203. 203. 203.]\n",
      "   [244. 244. 244.]\n",
      "   [255. 255. 255.]\n",
      "   ...\n",
      "   [193. 193. 193.]\n",
      "   [198. 198. 198.]\n",
      "   [226. 226. 226.]]\n",
      "\n",
      "  [[221. 221. 221.]\n",
      "   [236. 236. 236.]\n",
      "   [227. 227. 227.]\n",
      "   ...\n",
      "   [243. 243. 243.]\n",
      "   [201. 201. 201.]\n",
      "   [233. 233. 233.]]\n",
      "\n",
      "  ...\n",
      "\n",
      "  [[251. 251. 251.]\n",
      "   [227. 227. 227.]\n",
      "   [172. 172. 172.]\n",
      "   ...\n",
      "   [177. 177. 177.]\n",
      "   [158. 158. 158.]\n",
      "   [220. 220. 220.]]\n",
      "\n",
      "  [[234. 234. 234.]\n",
      "   [173. 173. 173.]\n",
      "   [239. 239. 239.]\n",
      "   ...\n",
      "   [147. 147. 147.]\n",
      "   [142. 142. 142.]\n",
      "   [148. 148. 148.]]\n",
      "\n",
      "  [[226. 226. 226.]\n",
      "   [195. 195. 195.]\n",
      "   [209. 209. 209.]\n",
      "   ...\n",
      "   [133. 133. 133.]\n",
      "   [126. 126. 126.]\n",
      "   [125. 125. 125.]]]\n",
      "\n",
      "\n",
      " [[[191. 191. 191.]\n",
      "   [192. 192. 192.]\n",
      "   [192. 192. 192.]\n",
      "   ...\n",
      "   [182. 182. 182.]\n",
      "   [180. 180. 180.]\n",
      "   [180. 180. 180.]]\n",
      "\n",
      "  [[192. 192. 192.]\n",
      "   [192. 192. 192.]\n",
      "   [192. 192. 192.]\n",
      "   ...\n",
      "   [182. 182. 182.]\n",
      "   [181. 181. 181.]\n",
      "   [181. 181. 181.]]\n",
      "\n",
      "  [[195. 195. 195.]\n",
      "   [195. 195. 195.]\n",
      "   [195. 195. 195.]\n",
      "   ...\n",
      "   [184. 184. 184.]\n",
      "   [183. 183. 183.]\n",
      "   [182. 182. 182.]]\n",
      "\n",
      "  ...\n",
      "\n",
      "  [[202. 202. 202.]\n",
      "   [203. 203. 203.]\n",
      "   [205. 205. 205.]\n",
      "   ...\n",
      "   [161. 161. 161.]\n",
      "   [160. 160. 160.]\n",
      "   [160. 160. 160.]]\n",
      "\n",
      "  [[204. 204. 204.]\n",
      "   [204. 204. 204.]\n",
      "   [206. 206. 206.]\n",
      "   ...\n",
      "   [158. 158. 158.]\n",
      "   [157. 157. 157.]\n",
      "   [157. 157. 157.]]\n",
      "\n",
      "  [[204. 204. 204.]\n",
      "   [204. 204. 204.]\n",
      "   [206. 206. 206.]\n",
      "   ...\n",
      "   [158. 158. 158.]\n",
      "   [157. 157. 157.]\n",
      "   [156. 156. 156.]]]]\n",
      "<class 'numpy.ndarray'>\n"
     ]
    }
   ],
   "source": [
    "# 轉換至array的格式\n",
    "X = np.array(X)\n",
    "print(X)\n",
    "print(type(X))"
   ]
  },
  {
   "cell_type": "code",
   "execution_count": 25,
   "metadata": {},
   "outputs": [],
   "source": [
    "# 轉換至float的格式\n",
    "for i in range(len(X)):\n",
    "    X[i] = X[i].astype('float32')"
   ]
  },
  {
   "cell_type": "code",
   "execution_count": 26,
   "metadata": {},
   "outputs": [
    {
     "name": "stdout",
     "output_type": "stream",
     "text": [
      "<class 'numpy.ndarray'>\n",
      "(10142, 512, 512, 3)\n",
      "(512, 512, 3)\n",
      "<class 'numpy.ndarray'>\n"
     ]
    }
   ],
   "source": [
    "# 打映圖片訓練集的概況\n",
    "# print(X[0])\n",
    "print(type(X))\n",
    "print(X.shape)\n",
    "\n",
    "print(X[0].shape)\n",
    "print(type(X[0]))"
   ]
  },
  {
   "cell_type": "code",
   "execution_count": 27,
   "metadata": {},
   "outputs": [],
   "source": [
    "# # 將標籤轉換至float格式\n",
    "# #y = tf.strings.to_number(y, out_type=tf.float32)\n",
    "# for i in range(len(y)):\n",
    "#     y[i] = y[i].astype('float32')\n",
    "# print(y)"
   ]
  },
  {
   "cell_type": "code",
   "execution_count": 28,
   "metadata": {},
   "outputs": [],
   "source": [
    "# # 打映圖片標籤的概況\n",
    "# print(y[0])\n",
    "# print(type(y[0]))"
   ]
  },
  {
   "cell_type": "code",
   "execution_count": 29,
   "metadata": {},
   "outputs": [],
   "source": [
    "# # 標籤進行one-hotencoding\n",
    "# y = np_utils.to_categorical(y, num_classes = 3)"
   ]
  },
  {
   "cell_type": "code",
   "execution_count": 30,
   "metadata": {
    "scrolled": true
   },
   "outputs": [],
   "source": [
    "# y[0]"
   ]
  },
  {
   "cell_type": "code",
   "execution_count": 31,
   "metadata": {},
   "outputs": [],
   "source": [
    "x_test = X[:10142]"
   ]
  },
  {
   "cell_type": "code",
   "execution_count": 32,
   "metadata": {},
   "outputs": [
    {
     "name": "stdout",
     "output_type": "stream",
     "text": [
      "<class 'numpy.ndarray'>\n",
      "10142\n",
      "(10142, 512, 512, 3)\n",
      "<class 'numpy.ndarray'>\n"
     ]
    }
   ],
   "source": [
    "print(type(x_test))\n",
    "print(len(x_test))\n",
    "print(x_test.shape)\n",
    "print(type(x_test[0]))"
   ]
  },
  {
   "cell_type": "code",
   "execution_count": 33,
   "metadata": {},
   "outputs": [],
   "source": [
    "# zca_whitening 對輸入數據施加ZCA白化\n",
    "# rotation_range 數據提升時圖片隨機轉動的角度\n",
    "# width_shift_range 圖片寬度的某個比例，數據提升時圖片水平偏移的幅度\n",
    "# shear_range 剪切強度（逆時針方向的剪切變換角度）\n",
    "# zoom_range 隨機縮放的幅度\n",
    "# horizontal_flip 進行隨機水平翻轉\n",
    "# fill_mode ‘constant’，‘nearest’，‘reflect’或‘wrap’之一，當進行變換時超出邊界的點將根據本參數給定的方法進行處理\n",
    "\n",
    "datagen = ImageDataGenerator(\n",
    "    horizontal_flip=True,\n",
    "    vertical_flip=True,\n",
    "    rotation_range=10,\n",
    "    width_shift_range=0.1,\n",
    "    height_shift_range=0.1,\n",
    "    zoom_range=.1,\n",
    "    fill_mode='nearest',\n",
    "    shear_range=0.1,\n",
    "    rescale=1/255,\n",
    "    brightness_range=[0.5, 1.5])\n",
    "\n",
    "\n",
    "\n",
    "# datagen = ImageDataGenerator(\n",
    "#     zca_whitening=False,\n",
    "#     rotation_range=40,\n",
    "#     width_shift_range=0.2,\n",
    "#     height_shift_range=0.2,\n",
    "#     shear_range=0.2,\n",
    "#     zoom_range=0.2,\n",
    "#     horizontal_flip=True,\n",
    "#     fill_mode='nearest',\n",
    "#     rescale=1/255, #多加的\n",
    "#     brightness_range=[0.5, 1.5]\n",
    "#     )\n",
    "\n"
   ]
  },
  {
   "cell_type": "code",
   "execution_count": 34,
   "metadata": {},
   "outputs": [
    {
     "name": "stdout",
     "output_type": "stream",
     "text": [
      "rescale！done!\n"
     ]
    }
   ],
   "source": [
    "# 導入圖像增強參數\n",
    "datagen.fit(x_test)\n",
    "x_test = x_test/255\n",
    "print('rescale！done!')"
   ]
  },
  {
   "cell_type": "code",
   "execution_count": 35,
   "metadata": {},
   "outputs": [
    {
     "name": "stdout",
     "output_type": "stream",
     "text": [
      "Model: \"sequential\"\n",
      "_________________________________________________________________\n",
      "Layer (type)                 Output Shape              Param #   \n",
      "=================================================================\n",
      "efficientnet-b0 (Model)      (None, 16, 16, 1280)      4049564   \n",
      "_________________________________________________________________\n",
      "global_average_pooling2d (Gl (None, 1280)              0         \n",
      "_________________________________________________________________\n",
      "dense (Dense)                (None, 6)                 7686      \n",
      "=================================================================\n",
      "Total params: 4,057,250\n",
      "Trainable params: 4,015,234\n",
      "Non-trainable params: 42,016\n",
      "_________________________________________________________________\n"
     ]
    }
   ],
   "source": [
    "modelEfficientB0 = tf.keras.models.load_model(\"C:/Users/danie/AOI_test/Model_H5/AOI_efficientB0_fortest_P1/weights-improvement-13-1.00.hdf5\")\n",
    "modelEfficientB0.summary()"
   ]
  },
  {
   "cell_type": "code",
   "execution_count": 36,
   "metadata": {},
   "outputs": [
    {
     "name": "stdout",
     "output_type": "stream",
     "text": [
      "Model: \"sequential\"\n",
      "_________________________________________________________________\n",
      "Layer (type)                 Output Shape              Param #   \n",
      "=================================================================\n",
      "efficientnet-b1 (Model)      (None, 16, 16, 1280)      6575232   \n",
      "_________________________________________________________________\n",
      "global_average_pooling2d (Gl (None, 1280)              0         \n",
      "_________________________________________________________________\n",
      "dense (Dense)                (None, 6)                 7686      \n",
      "=================================================================\n",
      "Total params: 6,582,918\n",
      "Trainable params: 6,520,870\n",
      "Non-trainable params: 62,048\n",
      "_________________________________________________________________\n"
     ]
    }
   ],
   "source": [
    "modelEfficientB1 = tf.keras.models.load_model(\"C:/Users/danie/AOI_test/Model_H5/AOI_efficientB1_fortest_P1/weights-improvement-15-0.99.hdf5\")\n",
    "modelEfficientB1.summary()"
   ]
  },
  {
   "cell_type": "code",
   "execution_count": 37,
   "metadata": {},
   "outputs": [
    {
     "name": "stdout",
     "output_type": "stream",
     "text": [
      "Model: \"sequential\"\n",
      "_________________________________________________________________\n",
      "Layer (type)                 Output Shape              Param #   \n",
      "=================================================================\n",
      "efficientnet-b2 (Model)      (None, 16, 16, 1408)      7768562   \n",
      "_________________________________________________________________\n",
      "global_average_pooling2d (Gl (None, 1408)              0         \n",
      "_________________________________________________________________\n",
      "dense (Dense)                (None, 6)                 8454      \n",
      "=================================================================\n",
      "Total params: 7,777,016\n",
      "Trainable params: 7,709,448\n",
      "Non-trainable params: 67,568\n",
      "_________________________________________________________________\n"
     ]
    }
   ],
   "source": [
    "modelEfficientB2 = tf.keras.models.load_model(\"C:/Users/danie/AOI_test/Model_H5/AOI_efficientB2_fortest_P1/1010/weights-improvement-13-1.00.hdf5\")\n",
    "modelEfficientB2.summary()"
   ]
  },
  {
   "cell_type": "code",
   "execution_count": 38,
   "metadata": {},
   "outputs": [],
   "source": [
    "# B2_pred = modelEfficientB2.predict_classes(x_test)\n",
    "# print(\"B2 down\")"
   ]
  },
  {
   "cell_type": "code",
   "execution_count": 39,
   "metadata": {
    "scrolled": true
   },
   "outputs": [],
   "source": [
    "# print(B2_pred.shape)\n",
    "# print(B2_pred[2])"
   ]
  },
  {
   "cell_type": "code",
   "execution_count": 40,
   "metadata": {},
   "outputs": [],
   "source": [
    "# df_predB2  = pd.DataFrame(B2_pred,columns=['Label'])\n",
    "# results = {'Label' : df_predB2.Label\n",
    "#           }\n",
    "# df_results_efficientnetB2 = pd.DataFrame(results)\n",
    "# df_results_efficientnetB2.to_csv('submissionEfficientNetB2.csv',index=False)"
   ]
  },
  {
   "cell_type": "code",
   "execution_count": 42,
   "metadata": {},
   "outputs": [],
   "source": [
    "#print(df_results_efficientnetB2)"
   ]
  },
  {
   "cell_type": "code",
   "execution_count": 43,
   "metadata": {},
   "outputs": [
    {
     "name": "stdout",
     "output_type": "stream",
     "text": [
      "Model: \"sequential\"\n",
      "_________________________________________________________________\n",
      "Layer (type)                 Output Shape              Param #   \n",
      "=================================================================\n",
      "efficientnet-b3 (Model)      (None, 16, 16, 1536)      10783528  \n",
      "_________________________________________________________________\n",
      "global_average_pooling2d (Gl (None, 1536)              0         \n",
      "_________________________________________________________________\n",
      "dense (Dense)                (None, 6)                 9222      \n",
      "=================================================================\n",
      "Total params: 10,792,750\n",
      "Trainable params: 10,705,454\n",
      "Non-trainable params: 87,296\n",
      "_________________________________________________________________\n"
     ]
    }
   ],
   "source": [
    "modelEfficientB3 = tf.keras.models.load_model(\"C:/Users/danie/AOI_test/Model_H5/AOI_efficientB3_fortest_P1/weights-improvement-13-1.00.hdf5\")\n",
    "modelEfficientB3.summary()"
   ]
  },
  {
   "cell_type": "code",
   "execution_count": null,
   "metadata": {},
   "outputs": [],
   "source": [
    "# B3_pred = modelEfficientB3.predict_classes(x_test)\n",
    "# print(\"B3 down\")"
   ]
  },
  {
   "cell_type": "code",
   "execution_count": null,
   "metadata": {},
   "outputs": [],
   "source": [
    "# print(B3_pred.shape)\n",
    "# print(B3_pred[2])"
   ]
  },
  {
   "cell_type": "code",
   "execution_count": null,
   "metadata": {},
   "outputs": [],
   "source": [
    "# df_predB3  = pd.DataFrame(B3_pred,columns=['Label'])\n",
    "# results = {'Label' : df_predB3.Label\n",
    "#           }\n",
    "# df_results_efficientnetB3 = pd.DataFrame(results)\n",
    "# df_results_efficientnetB3.to_csv('submissionEfficientNetB3.csv',index=False)"
   ]
  },
  {
   "cell_type": "code",
   "execution_count": 44,
   "metadata": {},
   "outputs": [
    {
     "name": "stdout",
     "output_type": "stream",
     "text": [
      "Model: \"sequential\"\n",
      "_________________________________________________________________\n",
      "Layer (type)                 Output Shape              Param #   \n",
      "=================================================================\n",
      "efficientnet-b4 (Model)      (None, 16, 16, 1792)      17673816  \n",
      "_________________________________________________________________\n",
      "global_average_pooling2d (Gl (None, 1792)              0         \n",
      "_________________________________________________________________\n",
      "dense (Dense)                (None, 6)                 10758     \n",
      "=================================================================\n",
      "Total params: 17,684,574\n",
      "Trainable params: 17,559,374\n",
      "Non-trainable params: 125,200\n",
      "_________________________________________________________________\n"
     ]
    }
   ],
   "source": [
    "modelEfficientB4 = tf.keras.models.load_model(\"C:/Users/danie/AOI_test/Model_H5/AOI_efficientB4_fortest_P1/weights-improvement-12-1.00.hdf5\")\n",
    "modelEfficientB4.summary()"
   ]
  },
  {
   "cell_type": "code",
   "execution_count": null,
   "metadata": {},
   "outputs": [],
   "source": [
    "# B4_pred = modelEfficientB4.predict_classes(x_test)\n",
    "# print(\"B4 down\")"
   ]
  },
  {
   "cell_type": "code",
   "execution_count": null,
   "metadata": {},
   "outputs": [],
   "source": [
    "# df_predB4  = pd.DataFrame(B4_pred,columns=['Label'])\n",
    "# results = {'Label' : df_predB4.Label\n",
    "#           }\n",
    "# df_results_efficientnetB4 = pd.DataFrame(results)\n",
    "# df_results_efficientnetB4.to_csv('submissionEfficientNetB4.csv',index=False)"
   ]
  },
  {
   "cell_type": "code",
   "execution_count": 45,
   "metadata": {},
   "outputs": [
    {
     "name": "stdout",
     "output_type": "stream",
     "text": [
      "Model: \"sequential\"\n",
      "_________________________________________________________________\n",
      "Layer (type)                 Output Shape              Param #   \n",
      "=================================================================\n",
      "efficientnet-b5 (Model)      (None, 16, 16, 2048)      28513520  \n",
      "_________________________________________________________________\n",
      "global_average_pooling2d (Gl (None, 2048)              0         \n",
      "_________________________________________________________________\n",
      "dense (Dense)                (None, 6)                 12294     \n",
      "=================================================================\n",
      "Total params: 28,525,814\n",
      "Trainable params: 28,353,078\n",
      "Non-trainable params: 172,736\n",
      "_________________________________________________________________\n"
     ]
    }
   ],
   "source": [
    "modelEfficientB5 = tf.keras.models.load_model(\"C:/Users/danie/AOI_test/Model_H5/AOI_efficientB5_fortest_P1/weights-improvement-14-1.00.hdf5\")\n",
    "modelEfficientB5.summary()"
   ]
  },
  {
   "cell_type": "code",
   "execution_count": null,
   "metadata": {},
   "outputs": [],
   "source": [
    "# B5_pred = modelEfficientB5.predict_classes(x_test)\n",
    "# print(\"B5 down\")"
   ]
  },
  {
   "cell_type": "code",
   "execution_count": null,
   "metadata": {},
   "outputs": [],
   "source": [
    "# df_predB5  = pd.DataFrame(B5_pred,columns=['Label'])\n",
    "# results = {'Label' : df_predB5.Label\n",
    "#           }\n",
    "# df_results_efficientnetB5 = pd.DataFrame(results)\n",
    "# df_results_efficientnetB5.to_csv('submissionEfficientNetB5.csv',index=False)"
   ]
  },
  {
   "cell_type": "code",
   "execution_count": 46,
   "metadata": {},
   "outputs": [
    {
     "name": "stdout",
     "output_type": "stream",
     "text": [
      "Model: \"sequential\"\n",
      "_________________________________________________________________\n",
      "Layer (type)                 Output Shape              Param #   \n",
      "=================================================================\n",
      "efficientnet-b5 (Model)      (None, 16, 16, 2048)      28513520  \n",
      "_________________________________________________________________\n",
      "global_average_pooling2d (Gl (None, 2048)              0         \n",
      "_________________________________________________________________\n",
      "dense (Dense)                (None, 6)                 12294     \n",
      "=================================================================\n",
      "Total params: 28,525,814\n",
      "Trainable params: 28,353,078\n",
      "Non-trainable params: 172,736\n",
      "_________________________________________________________________\n"
     ]
    }
   ],
   "source": [
    "modelEfficientB7 = tf.keras.models.load_model(\"C:/Users/danie/AOI_test/Model_H5/AOI_efficientB5_fortest_P1/weights-improvement-14-1.00.hdf5\")\n",
    "modelEfficientB7.summary()"
   ]
  },
  {
   "cell_type": "markdown",
   "metadata": {},
   "source": [
    "### 取平均"
   ]
  },
  {
   "cell_type": "code",
   "execution_count": null,
   "metadata": {},
   "outputs": [],
   "source": [
    "# df_predictions = round(0.33 * df_results_efficientnetB3 + 0.33 * df_results_efficientnetB4 + 0.34 * df_results_efficientnetB5)\n",
    "# df_pred  = pd.DataFrame(df_predictions,columns=['Label'])\n",
    "# results = {'Label' : df_pred.Label\n",
    "#           }\n",
    "# df_results_Ensemble = pd.DataFrame(results)\n",
    "# df_results_Ensemble.to_csv('submissionEnsemble.csv',index=False)"
   ]
  },
  {
   "cell_type": "markdown",
   "metadata": {},
   "source": [
    "### 投票"
   ]
  },
  {
   "cell_type": "code",
   "execution_count": 47,
   "metadata": {},
   "outputs": [],
   "source": [
    "model_voting = []\n",
    "model_voting.append(modelEfficientB7)\n",
    "model_voting.append(modelEfficientB5)\n",
    "model_voting.append(modelEfficientB4)\n",
    "model_voting.append(modelEfficientB3)\n",
    "model_voting.append(modelEfficientB2)\n",
    "model_voting.append(modelEfficientB1)\n",
    "model_voting.append(modelEfficientB0)"
   ]
  },
  {
   "cell_type": "code",
   "execution_count": 48,
   "metadata": {},
   "outputs": [
    {
     "name": "stdout",
     "output_type": "stream",
     "text": [
      "predict ok\n",
      "down\n",
      "predict ok\n",
      "down\n",
      "predict ok\n",
      "down\n",
      "predict ok\n",
      "down\n",
      "predict ok\n",
      "down\n",
      "predict ok\n",
      "down\n",
      "predict ok\n",
      "down\n"
     ]
    }
   ],
   "source": [
    "labels_voting = []\n",
    "for m in model_voting:\n",
    "    predicts = np.argmax(m.predict(x_test),axis=1)\n",
    "    print(\"predict ok\")\n",
    "    labels_voting.append(predicts)\n",
    "    print(\"down\")"
   ]
  },
  {
   "cell_type": "code",
   "execution_count": 49,
   "metadata": {},
   "outputs": [
    {
     "name": "stdout",
     "output_type": "stream",
     "text": [
      "[array([1, 2, 5, ..., 1, 3, 1], dtype=int64), array([1, 2, 5, ..., 1, 3, 1], dtype=int64), array([1, 2, 5, ..., 1, 3, 1], dtype=int64), array([1, 2, 5, ..., 1, 3, 1], dtype=int64), array([1, 2, 5, ..., 1, 3, 1], dtype=int64), array([1, 2, 5, ..., 1, 3, 1], dtype=int64), array([1, 2, 5, ..., 1, 3, 1], dtype=int64)]\n"
     ]
    }
   ],
   "source": [
    "print(labels_voting)"
   ]
  },
  {
   "cell_type": "code",
   "execution_count": 50,
   "metadata": {},
   "outputs": [
    {
     "name": "stdout",
     "output_type": "stream",
     "text": [
      "[[1 2 5 ... 1 3 1]\n",
      " [1 2 5 ... 1 3 1]\n",
      " [1 2 5 ... 1 3 1]\n",
      " ...\n",
      " [1 2 5 ... 1 3 1]\n",
      " [1 2 5 ... 1 3 1]\n",
      " [1 2 5 ... 1 3 1]]\n"
     ]
    }
   ],
   "source": [
    "import scipy\n",
    "#Ensemble with voting\n",
    "labels_voting = np.array(labels_voting)\n",
    "print(labels_voting)\n"
   ]
  },
  {
   "cell_type": "code",
   "execution_count": 51,
   "metadata": {},
   "outputs": [
    {
     "name": "stdout",
     "output_type": "stream",
     "text": [
      "[[1 1 1 ... 1 1 1]\n",
      " [2 2 2 ... 2 2 2]\n",
      " [5 5 5 ... 5 5 5]\n",
      " ...\n",
      " [1 1 1 ... 1 1 1]\n",
      " [3 3 3 ... 3 3 3]\n",
      " [1 1 1 ... 1 1 1]]\n"
     ]
    }
   ],
   "source": [
    "labels_voting = np.transpose(labels_voting, (1, 0))\n",
    "print(labels_voting)"
   ]
  },
  {
   "cell_type": "code",
   "execution_count": 52,
   "metadata": {},
   "outputs": [
    {
     "name": "stdout",
     "output_type": "stream",
     "text": [
      "[[1 1 1 ... 1 1 1]\n",
      " [2 2 2 ... 2 2 2]\n",
      " [5 5 5 ... 5 5 5]\n",
      " ...\n",
      " [1 1 1 ... 1 1 1]\n",
      " [3 3 3 ... 3 3 3]\n",
      " [1 1 1 ... 1 1 1]]\n"
     ]
    }
   ],
   "source": [
    "labels = labels_voting\n",
    "print(labels)"
   ]
  },
  {
   "cell_type": "code",
   "execution_count": 53,
   "metadata": {},
   "outputs": [
    {
     "name": "stdout",
     "output_type": "stream",
     "text": [
      "[[1]\n",
      " [2]\n",
      " [5]\n",
      " ...\n",
      " [1]\n",
      " [3]\n",
      " [1]]\n"
     ]
    }
   ],
   "source": [
    "labels_voting = scipy.stats.mode(labels_voting, axis=1)[0]\n",
    "print(labels_voting)\n",
    "# labels = scipy.stats.mode(labels, axis=1)\n",
    "# print(labels)"
   ]
  },
  {
   "cell_type": "code",
   "execution_count": 54,
   "metadata": {},
   "outputs": [
    {
     "name": "stdout",
     "output_type": "stream",
     "text": [
      "[1 2 5 ... 1 3 1]\n"
     ]
    }
   ],
   "source": [
    "labels_voting = np.squeeze(labels_voting)\n",
    "print(labels_voting)"
   ]
  },
  {
   "cell_type": "code",
   "execution_count": 55,
   "metadata": {},
   "outputs": [],
   "source": [
    "output = pd.DataFrame(labels_voting)\n",
    "output.to_csv('voting_submission02.csv',index=False)\n",
    "#pd.DataFrame({'ImageId' : np.arange(1, predicts.shape[0] + 1), 'Label' : labels_voting }).to_csv('voting_submission.csv', index=False)"
   ]
  }
 ],
 "metadata": {
  "kernelspec": {
   "display_name": "Python 3",
   "language": "python",
   "name": "python3"
  },
  "language_info": {
   "codemirror_mode": {
    "name": "ipython",
    "version": 3
   },
   "file_extension": ".py",
   "mimetype": "text/x-python",
   "name": "python",
   "nbconvert_exporter": "python",
   "pygments_lexer": "ipython3",
   "version": "3.7.7"
  },
  "widgets": {
   "application/vnd.jupyter.widget-state+json": {
    "state": {},
    "version_major": 2,
    "version_minor": 0
   }
  }
 },
 "nbformat": 4,
 "nbformat_minor": 4
}
